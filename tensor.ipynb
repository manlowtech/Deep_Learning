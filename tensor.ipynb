{
  "nbformat": 4,
  "nbformat_minor": 0,
  "metadata": {
    "colab": {
      "provenance": []
    },
    "kernelspec": {
      "name": "python3",
      "display_name": "Python 3"
    },
    "language_info": {
      "name": "python"
    }
  },
  "cells": [
    {
      "cell_type": "code",
      "execution_count": null,
      "metadata": {
        "id": "9WwKJhsL9-iL"
      },
      "outputs": [],
      "source": [
        "import tensorflow as tf\n",
        "\n",
        "const__ = tf.constant([10,10])\n",
        "const__"
      ]
    }
  ]
}